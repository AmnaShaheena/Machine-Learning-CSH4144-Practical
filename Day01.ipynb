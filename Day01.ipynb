{
  "nbformat": 4,
  "nbformat_minor": 0,
  "metadata": {
    "colab": {
      "provenance": [],
      "authorship_tag": "ABX9TyOrzMBd4uPM2dkI0gnp9v1T",
      "include_colab_link": true
    },
    "kernelspec": {
      "name": "python3",
      "display_name": "Python 3"
    },
    "language_info": {
      "name": "python"
    }
  },
  "cells": [
    {
      "cell_type": "markdown",
      "metadata": {
        "id": "view-in-github",
        "colab_type": "text"
      },
      "source": [
        "<a href=\"https://colab.research.google.com/github/AmnaShaheena/Machine-Learning-CSH4144-Practical/blob/main/Day01.ipynb\" target=\"_parent\"><img src=\"https://colab.research.google.com/assets/colab-badge.svg\" alt=\"Open In Colab\"/></a>"
      ]
    },
    {
      "cell_type": "markdown",
      "source": [
        "# 1. Basic Print Statements\n"
      ],
      "metadata": {
        "id": "Q4Ze_NIR671_"
      }
    },
    {
      "cell_type": "code",
      "source": [
        "print('Hello World')"
      ],
      "metadata": {
        "colab": {
          "base_uri": "https://localhost:8080/"
        },
        "id": "RfItarbY7l9t",
        "outputId": "21b8f836-9d20-4abc-d755-42b3ac02897a"
      },
      "execution_count": 1,
      "outputs": [
        {
          "output_type": "stream",
          "name": "stdout",
          "text": [
            "Hello World\n"
          ]
        }
      ]
    },
    {
      "cell_type": "code",
      "source": [
        "x=5\n",
        "print(x)"
      ],
      "metadata": {
        "colab": {
          "base_uri": "https://localhost:8080/"
        },
        "id": "HZ5ItTLV7oHz",
        "outputId": "8f2eed6a-918d-41dc-f5be-31fe2351c2a5"
      },
      "execution_count": 2,
      "outputs": [
        {
          "output_type": "stream",
          "name": "stdout",
          "text": [
            "5\n"
          ]
        }
      ]
    },
    {
      "cell_type": "code",
      "source": [
        "x='Hi'\n",
        "print(x)"
      ],
      "metadata": {
        "colab": {
          "base_uri": "https://localhost:8080/"
        },
        "id": "sNp5HCnb8OTO",
        "outputId": "a8a3f702-4d57-41be-8577-c584ede9a132"
      },
      "execution_count": 3,
      "outputs": [
        {
          "output_type": "stream",
          "name": "stdout",
          "text": [
            "Hi\n"
          ]
        }
      ]
    },
    {
      "cell_type": "code",
      "source": [
        "print(type(x))"
      ],
      "metadata": {
        "colab": {
          "base_uri": "https://localhost:8080/"
        },
        "id": "ZPZnNGe68Rg2",
        "outputId": "02c705ae-583f-422d-a585-6c753ca7010d"
      },
      "execution_count": 4,
      "outputs": [
        {
          "output_type": "stream",
          "name": "stdout",
          "text": [
            "<class 'str'>\n"
          ]
        }
      ]
    },
    {
      "cell_type": "markdown",
      "source": [
        "# 2.Variable Assignment and Data Types"
      ],
      "metadata": {
        "id": "CWqcbAOF8YSX"
      }
    },
    {
      "cell_type": "code",
      "source": [
        "x=int(5)\n",
        "x=str('hello')\n",
        "x=6.00\n",
        "print(type(x))"
      ],
      "metadata": {
        "colab": {
          "base_uri": "https://localhost:8080/"
        },
        "id": "dLbNHaoi8VIY",
        "outputId": "b20a443f-b411-4539-9238-9ff8fde0392e"
      },
      "execution_count": 5,
      "outputs": [
        {
          "output_type": "stream",
          "name": "stdout",
          "text": [
            "<class 'float'>\n"
          ]
        }
      ]
    },
    {
      "cell_type": "code",
      "source": [
        "a=5\n",
        "A='Salary'\n",
        "print(a)\n",
        "print(A)"
      ],
      "metadata": {
        "colab": {
          "base_uri": "https://localhost:8080/"
        },
        "id": "Tlim8eeW8ufP",
        "outputId": "84c850c1-057d-413a-dc32-258b20679552"
      },
      "execution_count": 6,
      "outputs": [
        {
          "output_type": "stream",
          "name": "stdout",
          "text": [
            "5\n",
            "Salary\n"
          ]
        }
      ]
    },
    {
      "cell_type": "markdown",
      "source": [
        "# 3. Variable Naming and Case Sensitivity"
      ],
      "metadata": {
        "id": "7xP-THNJ87nu"
      }
    },
    {
      "cell_type": "code",
      "source": [
        "num = 5\n",
        "_num1 = 5\n",
        "num_1 = 5\n",
        "1num=6\n",
        "\n"
      ],
      "metadata": {
        "colab": {
          "base_uri": "https://localhost:8080/",
          "height": 106
        },
        "id": "G60bD_F184ho",
        "outputId": "0f2f8ee7-bc45-4fcd-ca6c-a7a5ccdab63c"
      },
      "execution_count": 7,
      "outputs": [
        {
          "output_type": "error",
          "ename": "SyntaxError",
          "evalue": "invalid decimal literal (ipython-input-3101156940.py, line 4)",
          "traceback": [
            "\u001b[0;36m  File \u001b[0;32m\"/tmp/ipython-input-3101156940.py\"\u001b[0;36m, line \u001b[0;32m4\u001b[0m\n\u001b[0;31m    1num=6\u001b[0m\n\u001b[0m    ^\u001b[0m\n\u001b[0;31mSyntaxError\u001b[0m\u001b[0;31m:\u001b[0m invalid decimal literal\n"
          ]
        }
      ]
    },
    {
      "cell_type": "markdown",
      "source": [
        "\n",
        "Rules for Python Variable Names\n",
        "\n",
        "1)Must start with a letter (a–z, A–Z) or underscore (_)\n",
        "\n",
        "2)Can contain letters, digits, and underscores after the first character\n",
        "\n",
        "3)Cannot be a Python keyword (like if, for, class, etc.)\n",
        "\n"
      ],
      "metadata": {
        "id": "rrrv5RT29hD2"
      }
    },
    {
      "cell_type": "code",
      "source": [
        "age = 8\n",
        "Age = 6\n",
        "AGE = 10\n",
        "\n",
        "print(age)\n",
        "print(Age)\n",
        "print(AGE)\n",
        "\n",
        "print(age + Age + AGE)"
      ],
      "metadata": {
        "colab": {
          "base_uri": "https://localhost:8080/"
        },
        "id": "QAn3t6ZI9RVh",
        "outputId": "02940b8a-a729-4f56-bc26-97f91d5b6bb8"
      },
      "execution_count": 8,
      "outputs": [
        {
          "output_type": "stream",
          "name": "stdout",
          "text": [
            "8\n",
            "6\n",
            "10\n",
            "24\n"
          ]
        }
      ]
    },
    {
      "cell_type": "markdown",
      "source": [
        "Case-sensitive (age and Age are different variables)"
      ],
      "metadata": {
        "id": "X09-GP1S9uXj"
      }
    },
    {
      "cell_type": "markdown",
      "source": [
        "# 4.Type Error Example"
      ],
      "metadata": {
        "id": "OrR_5K19969_"
      }
    },
    {
      "cell_type": "code",
      "source": [
        "x = 'Hello'\n",
        "age = 8\n",
        "print(x + age)"
      ],
      "metadata": {
        "colab": {
          "base_uri": "https://localhost:8080/",
          "height": 176
        },
        "id": "xZlWltI69_Lg",
        "outputId": "d3506fb2-955f-4d73-a44e-f4411cec1c72"
      },
      "execution_count": 9,
      "outputs": [
        {
          "output_type": "error",
          "ename": "TypeError",
          "evalue": "can only concatenate str (not \"int\") to str",
          "traceback": [
            "\u001b[0;31m---------------------------------------------------------------------------\u001b[0m",
            "\u001b[0;31mTypeError\u001b[0m                                 Traceback (most recent call last)",
            "\u001b[0;32m/tmp/ipython-input-3465085624.py\u001b[0m in \u001b[0;36m<cell line: 0>\u001b[0;34m()\u001b[0m\n\u001b[1;32m      1\u001b[0m \u001b[0mx\u001b[0m \u001b[0;34m=\u001b[0m \u001b[0;34m'Hello'\u001b[0m\u001b[0;34m\u001b[0m\u001b[0;34m\u001b[0m\u001b[0m\n\u001b[1;32m      2\u001b[0m \u001b[0mage\u001b[0m \u001b[0;34m=\u001b[0m \u001b[0;36m8\u001b[0m\u001b[0;34m\u001b[0m\u001b[0;34m\u001b[0m\u001b[0m\n\u001b[0;32m----> 3\u001b[0;31m \u001b[0mprint\u001b[0m\u001b[0;34m(\u001b[0m\u001b[0mx\u001b[0m \u001b[0;34m+\u001b[0m \u001b[0mage\u001b[0m\u001b[0;34m)\u001b[0m\u001b[0;34m\u001b[0m\u001b[0;34m\u001b[0m\u001b[0m\n\u001b[0m",
            "\u001b[0;31mTypeError\u001b[0m: can only concatenate str (not \"int\") to str"
          ]
        }
      ]
    },
    {
      "cell_type": "markdown",
      "source": [
        "# 5.Funtions"
      ],
      "metadata": {
        "id": "m3sWsd1v-Iu0"
      }
    },
    {
      "cell_type": "code",
      "source": [
        "# Arithmetic Functions\n",
        "def add(num1, num2):\n",
        "    return num1 + num2\n",
        "\n",
        "def sub(num1, num2):\n",
        "    return num1 - num2\n",
        "\n",
        "def mul(num1, num2):\n",
        "    return num1 * num2\n",
        "\n",
        "def div(num1, num2):\n",
        "    return num1 / num2\n",
        "\n",
        "x = int(input('Enter the first number: '))\n",
        "y = int(input('Enter the second number: '))\n",
        "\n",
        "print('Addition:', add(x, y))\n",
        "print('Subtraction:', sub(x, y))\n",
        "print('Multiplication:', mul(x, y))\n",
        "print('Division:', div(x, y))"
      ],
      "metadata": {
        "colab": {
          "base_uri": "https://localhost:8080/"
        },
        "id": "S7htp59p-FdZ",
        "outputId": "25f65448-78d2-47ad-9021-406c29bf6b3d"
      },
      "execution_count": 10,
      "outputs": [
        {
          "output_type": "stream",
          "name": "stdout",
          "text": [
            "Enter the first number: 8\n",
            "Enter the second number: 3\n",
            "Addition: 11\n",
            "Subtraction: 5\n",
            "Multiplication: 24\n",
            "Division: 2.6666666666666665\n"
          ]
        }
      ]
    },
    {
      "cell_type": "code",
      "source": [
        "x = 'Good'  # global variable\n",
        "def myfun():\n",
        "    print(x)\n",
        "\n",
        "myfun()"
      ],
      "metadata": {
        "colab": {
          "base_uri": "https://localhost:8080/"
        },
        "id": "559iV4uL-Qnr",
        "outputId": "854a1b63-36ba-430f-c815-efd0b1c4052f"
      },
      "execution_count": 11,
      "outputs": [
        {
          "output_type": "stream",
          "name": "stdout",
          "text": [
            "Good\n"
          ]
        }
      ]
    },
    {
      "cell_type": "code",
      "source": [
        "def myfun_local():\n",
        "    y = 'Hi'\n",
        "    print(y)\n",
        "\n",
        "myfun_local()"
      ],
      "metadata": {
        "colab": {
          "base_uri": "https://localhost:8080/"
        },
        "id": "sWgpkar--Vd5",
        "outputId": "e9f0425c-3844-46e7-e592-2acc08427505"
      },
      "execution_count": 12,
      "outputs": [
        {
          "output_type": "stream",
          "name": "stdout",
          "text": [
            "Hi\n"
          ]
        }
      ]
    },
    {
      "cell_type": "code",
      "source": [
        "def myfunc(fname):\n",
        "    print(\"Hi I am\", fname)\n",
        "\n",
        "myfunc('Shaheena')"
      ],
      "metadata": {
        "colab": {
          "base_uri": "https://localhost:8080/"
        },
        "id": "oC530Od9-Yl2",
        "outputId": "75b612fc-ce13-4df9-efd8-2471a60094f4"
      },
      "execution_count": 13,
      "outputs": [
        {
          "output_type": "stream",
          "name": "stdout",
          "text": [
            "Hi I am Shaheena\n"
          ]
        }
      ]
    },
    {
      "cell_type": "markdown",
      "source": [
        "# 6. Conditional Statements"
      ],
      "metadata": {
        "id": "Wrjuddaz-eCf"
      }
    },
    {
      "cell_type": "code",
      "source": [
        "#if condition\n",
        "a = 44\n",
        "b = 7\n",
        "\n",
        "if a > b :\n",
        "    print('a greater than b')\n",
        "else:\n",
        "    print('b greater than a')"
      ],
      "metadata": {
        "colab": {
          "base_uri": "https://localhost:8080/"
        },
        "id": "l-kVd8LU-buY",
        "outputId": "87d9a19a-d38a-4426-cc7e-ebd72fa9bdb2"
      },
      "execution_count": 16,
      "outputs": [
        {
          "output_type": "stream",
          "name": "stdout",
          "text": [
            "a greater than b\n"
          ]
        }
      ]
    },
    {
      "cell_type": "code",
      "source": [
        "#nested if\n",
        "a = 7\n",
        "b = 7\n",
        "\n",
        "if b > a:\n",
        "    print('b greater than a')\n",
        "elif b == a:\n",
        "    print('b equal a')\n",
        "else:\n",
        "    print('a greater than b')"
      ],
      "metadata": {
        "colab": {
          "base_uri": "https://localhost:8080/"
        },
        "id": "5b4q5cJ1-rQ3",
        "outputId": "5c0464be-6cb2-4f14-e186-efbca506f1b6"
      },
      "execution_count": 17,
      "outputs": [
        {
          "output_type": "stream",
          "name": "stdout",
          "text": [
            "b equal a\n"
          ]
        }
      ]
    },
    {
      "cell_type": "markdown",
      "source": [
        "# 7. Loops"
      ],
      "metadata": {
        "id": "PFiaBEhX-3tu"
      }
    },
    {
      "cell_type": "code",
      "source": [
        "# While loop\n",
        "i = 1\n",
        "while i < 10:\n",
        "    print(i)\n",
        "    i += 1"
      ],
      "metadata": {
        "colab": {
          "base_uri": "https://localhost:8080/"
        },
        "id": "hiks06um-1vC",
        "outputId": "4172eed0-7c76-4e33-c5c7-c9b620d19872"
      },
      "execution_count": 18,
      "outputs": [
        {
          "output_type": "stream",
          "name": "stdout",
          "text": [
            "1\n",
            "2\n",
            "3\n",
            "4\n",
            "5\n",
            "6\n",
            "7\n",
            "8\n",
            "9\n"
          ]
        }
      ]
    },
    {
      "cell_type": "code",
      "source": [
        "# For loop with list\n",
        "fruits = ['apple','orange','mango']\n",
        "for x in fruits:\n",
        "    print(x)"
      ],
      "metadata": {
        "colab": {
          "base_uri": "https://localhost:8080/"
        },
        "id": "mw0W49-D-8fj",
        "outputId": "08a9c524-f869-4ded-ff25-02f54e089656"
      },
      "execution_count": 19,
      "outputs": [
        {
          "output_type": "stream",
          "name": "stdout",
          "text": [
            "apple\n",
            "orange\n",
            "mango\n"
          ]
        }
      ]
    },
    {
      "cell_type": "code",
      "source": [
        "# For loop with string\n",
        "for x in 'banana':\n",
        "    print(x)"
      ],
      "metadata": {
        "colab": {
          "base_uri": "https://localhost:8080/"
        },
        "id": "IlAU-Z3g-_bi",
        "outputId": "62079ae4-3e30-4f09-e29d-60699aef3277"
      },
      "execution_count": 20,
      "outputs": [
        {
          "output_type": "stream",
          "name": "stdout",
          "text": [
            "b\n",
            "a\n",
            "n\n",
            "a\n",
            "n\n",
            "a\n"
          ]
        }
      ]
    },
    {
      "cell_type": "code",
      "source": [
        "# For loop with break\n",
        "for x in fruits:\n",
        "    print(x)\n",
        "    if x == 'orange':\n",
        "        break"
      ],
      "metadata": {
        "colab": {
          "base_uri": "https://localhost:8080/"
        },
        "id": "MCGEfKV9_BZq",
        "outputId": "2e78da78-9234-4e87-c146-99bd6be4bfe2"
      },
      "execution_count": 21,
      "outputs": [
        {
          "output_type": "stream",
          "name": "stdout",
          "text": [
            "apple\n",
            "orange\n"
          ]
        }
      ]
    },
    {
      "cell_type": "code",
      "source": [
        "# For loop with continue\n",
        "for x in fruits:\n",
        "    if x == 'orange':\n",
        "        continue\n",
        "    print(x)"
      ],
      "metadata": {
        "colab": {
          "base_uri": "https://localhost:8080/"
        },
        "id": "I2c9CYN8_DVB",
        "outputId": "983168de-c3e2-405c-a37a-9baa1adc680b"
      },
      "execution_count": 22,
      "outputs": [
        {
          "output_type": "stream",
          "name": "stdout",
          "text": [
            "apple\n",
            "mango\n"
          ]
        }
      ]
    },
    {
      "cell_type": "code",
      "source": [
        "# For loop with range\n",
        "for x in range(1, 7):\n",
        "    print(x)"
      ],
      "metadata": {
        "colab": {
          "base_uri": "https://localhost:8080/"
        },
        "id": "Hh42GjmO_FI3",
        "outputId": "87bf4a00-5491-4cac-9cb9-bcaaaf09cf33"
      },
      "execution_count": 23,
      "outputs": [
        {
          "output_type": "stream",
          "name": "stdout",
          "text": [
            "1\n",
            "2\n",
            "3\n",
            "4\n",
            "5\n",
            "6\n"
          ]
        }
      ]
    },
    {
      "cell_type": "code",
      "source": [
        "# Nested for loop\n",
        "animal = ['cat','dog','lion']\n",
        "name = ['bob','alice','oscar']\n",
        "for x in animal:\n",
        "    for y in name:\n",
        "        print(x, y)"
      ],
      "metadata": {
        "colab": {
          "base_uri": "https://localhost:8080/"
        },
        "id": "9GAPR9Mr_G-K",
        "outputId": "03d3c699-1203-4c67-9c1d-a0a9ad313d00"
      },
      "execution_count": 24,
      "outputs": [
        {
          "output_type": "stream",
          "name": "stdout",
          "text": [
            "cat bob\n",
            "cat alice\n",
            "cat oscar\n",
            "dog bob\n",
            "dog alice\n",
            "dog oscar\n",
            "lion bob\n",
            "lion alice\n",
            "lion oscar\n"
          ]
        }
      ]
    },
    {
      "cell_type": "markdown",
      "source": [
        "# 8. Statistics with statistics Module"
      ],
      "metadata": {
        "id": "xV4Tu3Cg_Kro"
      }
    },
    {
      "cell_type": "code",
      "source": [
        "from statistics import mean, median, mode, stdev\n",
        "\n",
        "data = [5, 10, 10, 20, 25, 30, 30, 40]\n",
        "\n",
        "print('Data:', data)\n",
        "print('Mean:', mean(data))\n",
        "print('Mode:', mode(data))\n",
        "print('Median:', median(data))\n",
        "print('Standard Deviation:', stdev(data))\n"
      ],
      "metadata": {
        "colab": {
          "base_uri": "https://localhost:8080/"
        },
        "id": "iJt0AX_u_Itb",
        "outputId": "6eddea0d-cd20-4bf9-bee3-f7ae38a962a0"
      },
      "execution_count": 25,
      "outputs": [
        {
          "output_type": "stream",
          "name": "stdout",
          "text": [
            "Data: [5, 10, 10, 20, 25, 30, 30, 40]\n",
            "Mean: 21.25\n",
            "Mode: 10\n",
            "Median: 22.5\n",
            "Standard Deviation: 12.174328963613794\n"
          ]
        }
      ]
    },
    {
      "cell_type": "code",
      "source": [],
      "metadata": {
        "id": "wGI_5osI_OIA"
      },
      "execution_count": null,
      "outputs": []
    }
  ]
}